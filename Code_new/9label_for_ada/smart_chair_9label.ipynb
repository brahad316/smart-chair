{
  "nbformat": 4,
  "nbformat_minor": 0,
  "metadata": {
    "colab": {
      "provenance": []
    },
    "kernelspec": {
      "name": "python3",
      "display_name": "Python 3"
    },
    "language_info": {
      "name": "python"
    }
  },
  "cells": [
    {
      "cell_type": "code",
      "source": [
        "import sys\n",
        "import importlib\n",
        "import pandas as pd\n",
        "import numpy as np\n",
        "from sklearn.metrics import classification_report, confusion_matrix, accuracy_score\n",
        "import tensorflow as tf\n",
        "from google.colab import files"
      ],
      "metadata": {
        "id": "SBUuDWipYxzY"
      },
      "execution_count": 1,
      "outputs": []
    },
    {
      "cell_type": "code",
      "source": [
        "import sys\n",
        "sys.path.append('/content')\n",
        "\n",
        "import myNN\n",
        "import importlib; importlib.reload(myNN)\n",
        "\n",
        "print(dir(myNN))  # checking stuff\n"
      ],
      "metadata": {
        "colab": {
          "base_uri": "https://localhost:8080/"
        },
        "id": "NVJNZoWgr7j3",
        "outputId": "63a8d8ec-a9d1-49b5-e849-a33e4d8ffdb9"
      },
      "execution_count": 2,
      "outputs": [
        {
          "output_type": "stream",
          "name": "stdout",
          "text": [
            "['ZScoreLayer', '__builtins__', '__cached__', '__doc__', '__file__', '__loader__', '__name__', '__package__', '__path__', '__spec__', 'h5py', 'intList', 'layerNum', 'loadWeights', 'load_model', 'model', 'os', 'tf']\n"
          ]
        }
      ]
    },
    {
      "cell_type": "code",
      "source": [
        "import h5py\n",
        "\n",
        "# Open the h5 file to inspect its structure\n",
        "with h5py.File('/content/myNN/weights.h5', 'r') as f:\n",
        "    # List all groups in the file\n",
        "    print(\"Keys in weights.h5:\", list(f.keys()))\n",
        "\n",
        "    # Optionally, explore the first layer or a specific layer\n",
        "    layer_name = list(f.keys())[0]  # Adjust if needed\n",
        "    print(f\"Structure of layer {layer_name}:\")\n",
        "    print(f[layer_name].attrs)\n"
      ],
      "metadata": {
        "colab": {
          "base_uri": "https://localhost:8080/"
        },
        "id": "GMd1b2dbLv6B",
        "outputId": "2506bc3a-7695-4ac7-984c-62772e435bb0"
      },
      "execution_count": 3,
      "outputs": [
        {
          "output_type": "stream",
          "name": "stdout",
          "text": [
            "Keys in weights.h5: ['fc_1_', 'fc_2_', 'fc_3_', 'fc_4_', 'fc_5_', 'fc_6_', 'input_']\n",
            "Structure of layer fc_1_:\n",
            "<Attributes of HDF5 object at 139107669924480>\n"
          ]
        }
      ]
    },
    {
      "cell_type": "code",
      "source": [
        "with h5py.File('/content/myNN/weights.h5', 'r') as f:\n",
        "    # List all groups (layers) in the file\n",
        "    for group_name in f:\n",
        "        group = f[group_name]\n",
        "        print(f\"Layer: {group_name}\")\n",
        "        print(\"    Number of variables:\", group.attrs.get('NumVars'))\n",
        "        print(\"    Weights:\", list(group.keys()))\n"
      ],
      "metadata": {
        "colab": {
          "base_uri": "https://localhost:8080/"
        },
        "id": "6BKaIIfAMEG9",
        "outputId": "45dae9b4-aa0e-427b-9696-0caa50569598"
      },
      "execution_count": 4,
      "outputs": [
        {
          "output_type": "stream",
          "name": "stdout",
          "text": [
            "Layer: fc_1_\n",
            "    Number of variables: [2.]\n",
            "    Weights: ['bias', 'kernel']\n",
            "Layer: fc_2_\n",
            "    Number of variables: [2.]\n",
            "    Weights: ['bias', 'kernel']\n",
            "Layer: fc_3_\n",
            "    Number of variables: [2.]\n",
            "    Weights: ['bias', 'kernel']\n",
            "Layer: fc_4_\n",
            "    Number of variables: [2.]\n",
            "    Weights: ['bias', 'kernel']\n",
            "Layer: fc_5_\n",
            "    Number of variables: [2.]\n",
            "    Weights: ['bias', 'kernel']\n",
            "Layer: fc_6_\n",
            "    Number of variables: [2.]\n",
            "    Weights: ['bias', 'kernel']\n",
            "Layer: input_\n",
            "    Number of variables: [2.]\n",
            "    Weights: ['mean', 'stdev']\n"
          ]
        }
      ]
    },
    {
      "cell_type": "code",
      "source": [
        "model = myNN.load_model()\n",
        "\n",
        "print(\"Mean shape:\", model.get_layer(\"input_\").mean.shape)\n",
        "print(\"Mean (first 5):\", model.get_layer(\"input_\").mean.numpy()[:5])\n",
        "\n",
        "model.export('/content/my_saved_NN')"
      ],
      "metadata": {
        "colab": {
          "base_uri": "https://localhost:8080/"
        },
        "id": "ViLFLbqKsAZN",
        "outputId": "ebed6fe9-0640-4afe-de97-c4d45a6ae9f1",
        "collapsed": true
      },
      "execution_count": 5,
      "outputs": [
        {
          "output_type": "stream",
          "name": "stdout",
          "text": [
            "Mean shape: (1024,)\n",
            "Mean (first 5): [ 71.138466  75.62285   79.72336   87.17977  107.68489 ]\n"
          ]
        },
        {
          "output_type": "stream",
          "name": "stderr",
          "text": [
            "/usr/local/lib/python3.11/dist-packages/keras/src/models/functional.py:237: UserWarning: The structure of `inputs` doesn't match the expected structure.\n",
            "Expected: ['input_unnormalized']\n",
            "Received: inputs=Tensor(shape=(None, 1024))\n",
            "  warnings.warn(msg)\n"
          ]
        },
        {
          "output_type": "stream",
          "name": "stdout",
          "text": [
            "Saved artifact at '/content/my_saved_NN'. The following endpoints are available:\n",
            "\n",
            "* Endpoint 'serve'\n",
            "  args_0 (POSITIONAL_ONLY): TensorSpec(shape=(None, 1024), dtype=tf.float32, name='input_unnormalized')\n",
            "Output Type:\n",
            "  TensorSpec(shape=(None, 9), dtype=tf.float32, name=None)\n",
            "Captures:\n",
            "  139107317313424: TensorSpec(shape=(), dtype=tf.resource, name=None)\n",
            "  139107126380112: TensorSpec(shape=(), dtype=tf.resource, name=None)\n",
            "  139107126383568: TensorSpec(shape=(), dtype=tf.resource, name=None)\n",
            "  139107126384144: TensorSpec(shape=(), dtype=tf.resource, name=None)\n",
            "  139107126386064: TensorSpec(shape=(), dtype=tf.resource, name=None)\n",
            "  139107126384336: TensorSpec(shape=(), dtype=tf.resource, name=None)\n",
            "  139107126383760: TensorSpec(shape=(), dtype=tf.resource, name=None)\n",
            "  139107126386640: TensorSpec(shape=(), dtype=tf.resource, name=None)\n",
            "  139107126383376: TensorSpec(shape=(), dtype=tf.resource, name=None)\n",
            "  139107126387216: TensorSpec(shape=(), dtype=tf.resource, name=None)\n",
            "  139107126388368: TensorSpec(shape=(), dtype=tf.resource, name=None)\n",
            "  139107126389904: TensorSpec(shape=(), dtype=tf.resource, name=None)\n",
            "  139107126389328: TensorSpec(shape=(), dtype=tf.resource, name=None)\n",
            "  139107126390672: TensorSpec(shape=(), dtype=tf.resource, name=None)\n"
          ]
        }
      ]
    },
    {
      "cell_type": "code",
      "source": [
        "!zip -r my_saved_NN.zip my_saved_NN\n",
        "\n",
        "files.download(\"my_saved_NN.zip\")"
      ],
      "metadata": {
        "colab": {
          "base_uri": "https://localhost:8080/",
          "height": 139
        },
        "id": "8cqTIm58wmYf",
        "outputId": "7021bc1f-99d6-44dc-affc-008ca5dea1a3"
      },
      "execution_count": 6,
      "outputs": [
        {
          "output_type": "stream",
          "name": "stdout",
          "text": [
            "  adding: my_saved_NN/ (stored 0%)\n",
            "  adding: my_saved_NN/saved_model.pb (deflated 86%)\n",
            "  adding: my_saved_NN/variables/ (stored 0%)\n",
            "  adding: my_saved_NN/variables/variables.data-00000-of-00001 (deflated 8%)\n",
            "  adding: my_saved_NN/variables/variables.index (deflated 66%)\n",
            "  adding: my_saved_NN/assets/ (stored 0%)\n",
            "  adding: my_saved_NN/fingerprint.pb (stored 0%)\n"
          ]
        },
        {
          "output_type": "display_data",
          "data": {
            "text/plain": [
              "<IPython.core.display.Javascript object>"
            ],
            "application/javascript": [
              "\n",
              "    async function download(id, filename, size) {\n",
              "      if (!google.colab.kernel.accessAllowed) {\n",
              "        return;\n",
              "      }\n",
              "      const div = document.createElement('div');\n",
              "      const label = document.createElement('label');\n",
              "      label.textContent = `Downloading \"${filename}\": `;\n",
              "      div.appendChild(label);\n",
              "      const progress = document.createElement('progress');\n",
              "      progress.max = size;\n",
              "      div.appendChild(progress);\n",
              "      document.body.appendChild(div);\n",
              "\n",
              "      const buffers = [];\n",
              "      let downloaded = 0;\n",
              "\n",
              "      const channel = await google.colab.kernel.comms.open(id);\n",
              "      // Send a message to notify the kernel that we're ready.\n",
              "      channel.send({})\n",
              "\n",
              "      for await (const message of channel.messages) {\n",
              "        // Send a message to notify the kernel that we're ready.\n",
              "        channel.send({})\n",
              "        if (message.buffers) {\n",
              "          for (const buffer of message.buffers) {\n",
              "            buffers.push(buffer);\n",
              "            downloaded += buffer.byteLength;\n",
              "            progress.value = downloaded;\n",
              "          }\n",
              "        }\n",
              "      }\n",
              "      const blob = new Blob(buffers, {type: 'application/binary'});\n",
              "      const a = document.createElement('a');\n",
              "      a.href = window.URL.createObjectURL(blob);\n",
              "      a.download = filename;\n",
              "      div.appendChild(a);\n",
              "      a.click();\n",
              "      div.remove();\n",
              "    }\n",
              "  "
            ]
          },
          "metadata": {}
        },
        {
          "output_type": "display_data",
          "data": {
            "text/plain": [
              "<IPython.core.display.Javascript object>"
            ],
            "application/javascript": [
              "download(\"download_8c01dd88-ebb4-496f-aad7-60e4d25a3df8\", \"my_saved_NN.zip\", 7093353)"
            ]
          },
          "metadata": {}
        }
      ]
    },
    {
      "cell_type": "code",
      "source": [
        "# Print mean and std from ZScoreLayer\n",
        "zlayer = None\n",
        "for layer in model.layers:\n",
        "    if isinstance(layer, myNN.ZScoreLayer):\n",
        "        zlayer = layer\n",
        "        break\n",
        "\n",
        "if zlayer:\n",
        "    print(\"Found ZScoreLayer\")\n",
        "    print(\"Mean:\", zlayer.mean.numpy())\n",
        "    print(\"Std:\", zlayer.std.numpy())\n",
        "else:\n",
        "    print(\"ZScoreLayer not found in model.\")"
      ],
      "metadata": {
        "colab": {
          "base_uri": "https://localhost:8080/"
        },
        "id": "1kti5gmzQz5Q",
        "outputId": "231b66af-af5b-440e-e599-0022334baa9b"
      },
      "execution_count": 7,
      "outputs": [
        {
          "output_type": "stream",
          "name": "stdout",
          "text": [
            "Found ZScoreLayer\n",
            "Mean: [ 71.138466  75.62285   79.72336  ...  95.46716  106.117645  84.66297 ]\n",
            "Std: [24.997116 27.195084 26.85353  ... 35.568363 41.665295 31.921804]\n"
          ]
        }
      ]
    },
    {
      "cell_type": "code",
      "source": [
        "# === Load and Preprocess Test Data ===\n",
        "test_df = pd.read_csv('/content/test_7_9label.csv')  # ← Update path if needed\n",
        "\n",
        "# Separate features and labels\n",
        "X_test = test_df[[f'var{i}' for i in range(1, 1025)]].values\n",
        "y_test = test_df['posture'].values\n",
        "\n",
        "# Encode labels to integers (e.g., 'correct' → 1, 'incorrect' → 0, 'not_sitting' → 2)\n",
        "label_map = {\n",
        "    'cross_legged': 0,\n",
        "    'leaning_forward': 1,\n",
        "    'leaning_left': 2,\n",
        "    'leaning_left_lc': 3,\n",
        "    'leaning_right': 4,\n",
        "    'leaning_right_lc': 5,\n",
        "    'not_sitting': 6,\n",
        "    'slouching': 7,\n",
        "    'straight': 8\n",
        "}\n",
        "y_test_encoded = np.array([label_map[label] for label in y_test])\n",
        "\n",
        "# === Run Inference ===\n",
        "y_pred_probs = model.predict({'input_unnormalized': X_test})\n",
        "y_pred_classes = np.argmax(y_pred_probs, axis=1)  # Assumes model output is softmax\n",
        "\n",
        "# === Evaluate ===\n",
        "print(\"Accuracy:\", accuracy_score(y_test_encoded, y_pred_classes))\n",
        "print(\"Confusion Matrix:\\n\", confusion_matrix(y_test_encoded, y_pred_classes))\n",
        "print(\"Classification Report:\\n\", classification_report(\n",
        "    y_test_encoded,\n",
        "    y_pred_classes,\n",
        "    target_names=['cross_legged', 'leaning_forward', 'leaning_left', 'leaning_left_lc', 'leaning_right', 'leaning_right_lc', 'not_sitting', 'slouching', 'straight']\n",
        "))\n"
      ],
      "metadata": {
        "colab": {
          "base_uri": "https://localhost:8080/"
        },
        "id": "gc9_bt5l8UuG",
        "outputId": "0238db9c-3654-482b-a5c1-5318c3339eed"
      },
      "execution_count": 9,
      "outputs": [
        {
          "output_type": "stream",
          "name": "stdout",
          "text": [
            "\u001b[1m258/258\u001b[0m \u001b[32m━━━━━━━━━━━━━━━━━━━━\u001b[0m\u001b[37m\u001b[0m \u001b[1m1s\u001b[0m 4ms/step\n",
            "Accuracy: 0.6404903507707246\n",
            "Confusion Matrix:\n",
            " [[661   0  12   0   0   0  15 128   0]\n",
            " [  0 927   0   0   7   0   0 168   0]\n",
            " [ 51   0 474 259   0   2   0   2 130]\n",
            " [  0   0 313 584   2  48   2   1  83]\n",
            " [  0   1  46   0 467 374   1   0 142]\n",
            " [  0   0   2 114 103 760   0   2   0]\n",
            " [  0   0   0   0   0   0 419   0   0]\n",
            " [  0 313  19   0   0   0   1 334 164]\n",
            " [ 41   1   3 121   3 140   3 145 651]]\n",
            "Classification Report:\n",
            "                   precision    recall  f1-score   support\n",
            "\n",
            "    cross_legged       0.88      0.81      0.84       816\n",
            " leaning_forward       0.75      0.84      0.79      1102\n",
            "    leaning_left       0.55      0.52      0.53       918\n",
            " leaning_left_lc       0.54      0.57      0.55      1033\n",
            "   leaning_right       0.80      0.45      0.58      1031\n",
            "leaning_right_lc       0.57      0.77      0.66       981\n",
            "     not_sitting       0.95      1.00      0.97       419\n",
            "       slouching       0.43      0.40      0.41       831\n",
            "        straight       0.56      0.59      0.57      1108\n",
            "\n",
            "        accuracy                           0.64      8239\n",
            "       macro avg       0.67      0.66      0.66      8239\n",
            "    weighted avg       0.65      0.64      0.64      8239\n",
            "\n"
          ]
        }
      ]
    },
    {
      "cell_type": "code",
      "source": [
        "import tensorflow as tf\n",
        "\n",
        "# Path to your SavedModel directory\n",
        "saved_model_dir = \"/content/my_saved_NN\"\n",
        "\n",
        "# Converter\n",
        "converter = tf.lite.TFLiteConverter.from_saved_model(saved_model_dir)\n",
        "\n",
        "# (Optional) Enable optimizations like quantization\n",
        "converter.optimizations = [tf.lite.Optimize.DEFAULT]\n",
        "\n",
        "# Convert the model\n",
        "tflite_model = converter.convert()\n",
        "\n",
        "# Save it to a file\n",
        "with open(\"model.tflite\", \"wb\") as f:\n",
        "    f.write(tflite_model)\n"
      ],
      "metadata": {
        "id": "gWLsVl1lXFP7"
      },
      "execution_count": 10,
      "outputs": []
    },
    {
      "cell_type": "code",
      "source": [
        "# ================== TESTING TFLITE MODEL ======================\n",
        "\n",
        "# Load TFLite model and allocate tensors\n",
        "interpreter = tf.lite.Interpreter(model_path=\"model.tflite\")\n",
        "interpreter.allocate_tensors()\n",
        "\n",
        "input_details = interpreter.get_input_details()\n",
        "output_details = interpreter.get_output_details()\n",
        "\n",
        "print(\"Input shape:\", input_details[0]['shape'])\n",
        "print(\"Output shape:\", output_details[0]['shape'])\n"
      ],
      "metadata": {
        "colab": {
          "base_uri": "https://localhost:8080/"
        },
        "id": "YpXgbSMbuA7L",
        "outputId": "75164ca9-faf9-44c7-ab97-bdbc068f05fd"
      },
      "execution_count": 11,
      "outputs": [
        {
          "output_type": "stream",
          "name": "stdout",
          "text": [
            "Input shape: [   1 1024]\n",
            "Output shape: [1 9]\n"
          ]
        }
      ]
    },
    {
      "cell_type": "code",
      "source": [
        "correct = 0\n",
        "total = len(X_test)\n",
        "\n",
        "for i in range(total):\n",
        "    input_data = X_test[i:i+1].astype(np.float32)\n",
        "    interpreter.set_tensor(input_details[0]['index'], input_data)\n",
        "    interpreter.invoke()\n",
        "    output = interpreter.get_tensor(output_details[0]['index'])\n",
        "    pred = np.argmax(output)\n",
        "\n",
        "    if pred == y_test_encoded[i]:\n",
        "        correct += 1\n",
        "\n",
        "print(\"TFLite accuracy:\", correct / total)\n"
      ],
      "metadata": {
        "colab": {
          "base_uri": "https://localhost:8080/"
        },
        "id": "kPQ2ENMavp0O",
        "outputId": "b7cd840a-451d-47eb-d8e0-564f7163f09d"
      },
      "execution_count": 12,
      "outputs": [
        {
          "output_type": "stream",
          "name": "stdout",
          "text": [
            "TFLite accuracy: 0.6401262289112757\n"
          ]
        }
      ]
    }
  ]
}