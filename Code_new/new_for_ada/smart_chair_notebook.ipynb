{
  "nbformat": 4,
  "nbformat_minor": 0,
  "metadata": {
    "colab": {
      "provenance": []
    },
    "kernelspec": {
      "name": "python3",
      "display_name": "Python 3"
    },
    "language_info": {
      "name": "python"
    }
  },
  "cells": [
    {
      "cell_type": "code",
      "source": [
        "import sys\n",
        "import importlib\n",
        "import pandas as pd\n",
        "import numpy as np\n",
        "from sklearn.metrics import classification_report, confusion_matrix, accuracy_score\n",
        "import tensorflow as tf\n",
        "from google.colab import files"
      ],
      "metadata": {
        "id": "SBUuDWipYxzY"
      },
      "execution_count": 17,
      "outputs": []
    },
    {
      "cell_type": "code",
      "source": [
        "import sys\n",
        "sys.path.append('/content')\n",
        "\n",
        "import myNN\n",
        "import importlib; importlib.reload(myNN)\n",
        "\n",
        "print(dir(myNN))  # checking stuff\n"
      ],
      "metadata": {
        "colab": {
          "base_uri": "https://localhost:8080/"
        },
        "id": "NVJNZoWgr7j3",
        "outputId": "7ce63826-7a7a-4ff4-ba68-b0ba2e45cc86"
      },
      "execution_count": 2,
      "outputs": [
        {
          "output_type": "stream",
          "name": "stdout",
          "text": [
            "['ZScoreLayer', '__builtins__', '__cached__', '__doc__', '__file__', '__loader__', '__name__', '__package__', '__path__', '__spec__', 'h5py', 'intList', 'layerNum', 'loadWeights', 'load_model', 'model', 'os', 'tf']\n"
          ]
        }
      ]
    },
    {
      "cell_type": "code",
      "source": [
        "import h5py\n",
        "\n",
        "# Open the h5 file to inspect its structure\n",
        "with h5py.File('/content/myNN/weights.h5', 'r') as f:\n",
        "    # List all groups in the file\n",
        "    print(\"Keys in weights.h5:\", list(f.keys()))\n",
        "\n",
        "    # Optionally, explore the first layer or a specific layer\n",
        "    layer_name = list(f.keys())[0]  # Adjust if needed\n",
        "    print(f\"Structure of layer {layer_name}:\")\n",
        "    print(f[layer_name].attrs)\n"
      ],
      "metadata": {
        "colab": {
          "base_uri": "https://localhost:8080/"
        },
        "id": "GMd1b2dbLv6B",
        "outputId": "8b3a3608-3ef4-4021-f4e9-0c89528e1a71"
      },
      "execution_count": 3,
      "outputs": [
        {
          "output_type": "stream",
          "name": "stdout",
          "text": [
            "Keys in weights.h5: ['fc_1_', 'fc_2_', 'fc_3_', 'input_']\n",
            "Structure of layer fc_1_:\n",
            "<Attributes of HDF5 object at 137565777820496>\n"
          ]
        }
      ]
    },
    {
      "cell_type": "code",
      "source": [
        "with h5py.File('/content/myNN/weights.h5', 'r') as f:\n",
        "    # List all groups (layers) in the file\n",
        "    for group_name in f:\n",
        "        group = f[group_name]\n",
        "        print(f\"Layer: {group_name}\")\n",
        "        print(\"    Number of variables:\", group.attrs.get('NumVars'))\n",
        "        print(\"    Weights:\", list(group.keys()))\n"
      ],
      "metadata": {
        "colab": {
          "base_uri": "https://localhost:8080/"
        },
        "id": "6BKaIIfAMEG9",
        "outputId": "67c0d74b-10ba-44ba-a86a-da27b4f049df"
      },
      "execution_count": 4,
      "outputs": [
        {
          "output_type": "stream",
          "name": "stdout",
          "text": [
            "Layer: fc_1_\n",
            "    Number of variables: [2.]\n",
            "    Weights: ['bias', 'kernel']\n",
            "Layer: fc_2_\n",
            "    Number of variables: [2.]\n",
            "    Weights: ['bias', 'kernel']\n",
            "Layer: fc_3_\n",
            "    Number of variables: [2.]\n",
            "    Weights: ['bias', 'kernel']\n",
            "Layer: input_\n",
            "    Number of variables: [2.]\n",
            "    Weights: ['mean', 'stdev']\n"
          ]
        }
      ]
    },
    {
      "cell_type": "code",
      "source": [
        "model = myNN.load_model()\n",
        "\n",
        "print(\"Mean shape:\", model.get_layer(\"input_\").mean.shape)\n",
        "print(\"Mean (first 5):\", model.get_layer(\"input_\").mean.numpy()[:5])\n",
        "\n",
        "model.export('/content/my_saved_NN')"
      ],
      "metadata": {
        "colab": {
          "base_uri": "https://localhost:8080/"
        },
        "id": "ViLFLbqKsAZN",
        "outputId": "d742ca8a-1988-4908-dd36-22e74d3136fa",
        "collapsed": true
      },
      "execution_count": 5,
      "outputs": [
        {
          "output_type": "stream",
          "name": "stdout",
          "text": [
            "Mean shape: (1024,)\n",
            "Mean (first 5): [ 71.05658  75.53707  79.59717  87.02772 107.62675]\n"
          ]
        },
        {
          "output_type": "stream",
          "name": "stderr",
          "text": [
            "/usr/local/lib/python3.11/dist-packages/keras/src/models/functional.py:237: UserWarning: The structure of `inputs` doesn't match the expected structure.\n",
            "Expected: ['input_unnormalized']\n",
            "Received: inputs=Tensor(shape=(None, 1024))\n",
            "  warnings.warn(msg)\n"
          ]
        },
        {
          "output_type": "stream",
          "name": "stdout",
          "text": [
            "Saved artifact at '/content/my_saved_NN'. The following endpoints are available:\n",
            "\n",
            "* Endpoint 'serve'\n",
            "  args_0 (POSITIONAL_ONLY): TensorSpec(shape=(None, 1024), dtype=tf.float32, name='input_unnormalized')\n",
            "Output Type:\n",
            "  TensorSpec(shape=(None, 3), dtype=tf.float32, name=None)\n",
            "Captures:\n",
            "  137565778234064: TensorSpec(shape=(), dtype=tf.resource, name=None)\n",
            "  137565778234256: TensorSpec(shape=(), dtype=tf.resource, name=None)\n",
            "  137565778235984: TensorSpec(shape=(), dtype=tf.resource, name=None)\n",
            "  137565778236560: TensorSpec(shape=(), dtype=tf.resource, name=None)\n",
            "  137565778238480: TensorSpec(shape=(), dtype=tf.resource, name=None)\n",
            "  137565778236752: TensorSpec(shape=(), dtype=tf.resource, name=None)\n",
            "  137565778236176: TensorSpec(shape=(), dtype=tf.resource, name=None)\n",
            "  137565778239056: TensorSpec(shape=(), dtype=tf.resource, name=None)\n"
          ]
        }
      ]
    },
    {
      "cell_type": "code",
      "source": [
        "!zip -r my_saved_NN.zip my_saved_NN\n",
        "\n",
        "files.download(\"my_saved_NN.zip\")"
      ],
      "metadata": {
        "colab": {
          "base_uri": "https://localhost:8080/",
          "height": 139
        },
        "id": "8cqTIm58wmYf",
        "outputId": "a2e8bf3b-b654-46a8-c582-7070938a072c"
      },
      "execution_count": 18,
      "outputs": [
        {
          "output_type": "stream",
          "name": "stdout",
          "text": [
            "  adding: my_saved_NN/ (stored 0%)\n",
            "  adding: my_saved_NN/saved_model.pb (deflated 84%)\n",
            "  adding: my_saved_NN/variables/ (stored 0%)\n",
            "  adding: my_saved_NN/variables/variables.data-00000-of-00001 (deflated 8%)\n",
            "  adding: my_saved_NN/variables/variables.index (deflated 59%)\n",
            "  adding: my_saved_NN/assets/ (stored 0%)\n",
            "  adding: my_saved_NN/fingerprint.pb (stored 0%)\n"
          ]
        },
        {
          "output_type": "display_data",
          "data": {
            "text/plain": [
              "<IPython.core.display.Javascript object>"
            ],
            "application/javascript": [
              "\n",
              "    async function download(id, filename, size) {\n",
              "      if (!google.colab.kernel.accessAllowed) {\n",
              "        return;\n",
              "      }\n",
              "      const div = document.createElement('div');\n",
              "      const label = document.createElement('label');\n",
              "      label.textContent = `Downloading \"${filename}\": `;\n",
              "      div.appendChild(label);\n",
              "      const progress = document.createElement('progress');\n",
              "      progress.max = size;\n",
              "      div.appendChild(progress);\n",
              "      document.body.appendChild(div);\n",
              "\n",
              "      const buffers = [];\n",
              "      let downloaded = 0;\n",
              "\n",
              "      const channel = await google.colab.kernel.comms.open(id);\n",
              "      // Send a message to notify the kernel that we're ready.\n",
              "      channel.send({})\n",
              "\n",
              "      for await (const message of channel.messages) {\n",
              "        // Send a message to notify the kernel that we're ready.\n",
              "        channel.send({})\n",
              "        if (message.buffers) {\n",
              "          for (const buffer of message.buffers) {\n",
              "            buffers.push(buffer);\n",
              "            downloaded += buffer.byteLength;\n",
              "            progress.value = downloaded;\n",
              "          }\n",
              "        }\n",
              "      }\n",
              "      const blob = new Blob(buffers, {type: 'application/binary'});\n",
              "      const a = document.createElement('a');\n",
              "      a.href = window.URL.createObjectURL(blob);\n",
              "      a.download = filename;\n",
              "      div.appendChild(a);\n",
              "      a.click();\n",
              "      div.remove();\n",
              "    }\n",
              "  "
            ]
          },
          "metadata": {}
        },
        {
          "output_type": "display_data",
          "data": {
            "text/plain": [
              "<IPython.core.display.Javascript object>"
            ],
            "application/javascript": [
              "download(\"download_b0f57bfe-85ad-4a65-a800-8065114b0d96\", \"my_saved_NN.zip\", 1713908)"
            ]
          },
          "metadata": {}
        }
      ]
    },
    {
      "cell_type": "code",
      "source": [
        "# Print mean and std from ZScoreLayer\n",
        "zlayer = None\n",
        "for layer in model.layers:\n",
        "    if isinstance(layer, myNN.ZScoreLayer):\n",
        "        zlayer = layer\n",
        "        break\n",
        "\n",
        "if zlayer:\n",
        "    print(\"Found ZScoreLayer\")\n",
        "    print(\"Mean:\", zlayer.mean.numpy())\n",
        "    print(\"Std:\", zlayer.std.numpy())\n",
        "else:\n",
        "    print(\"ZScoreLayer not found in model.\")"
      ],
      "metadata": {
        "colab": {
          "base_uri": "https://localhost:8080/"
        },
        "id": "1kti5gmzQz5Q",
        "outputId": "3a0ad617-7e8f-48ea-891c-70bf02b4faf5"
      },
      "execution_count": 6,
      "outputs": [
        {
          "output_type": "stream",
          "name": "stdout",
          "text": [
            "Found ZScoreLayer\n",
            "Mean: [ 71.05658   75.53707   79.59717  ...  95.35049  105.896065  84.649895]\n",
            "Std: [24.894312 27.084814 26.780912 ... 35.477444 41.457195 31.845758]\n"
          ]
        }
      ]
    },
    {
      "cell_type": "code",
      "source": [
        "# === Load and Preprocess Test Data ===\n",
        "test_df = pd.read_csv('/content/test_7_3label.csv')  # ← Update path if needed\n",
        "\n",
        "# Separate features and labels\n",
        "X_test = test_df[[f'var{i}' for i in range(1, 1025)]].values\n",
        "y_test = test_df['three_label'].values\n",
        "\n",
        "# Encode labels to integers (e.g., 'correct' → 1, 'incorrect' → 0, 'not_sitting' → 2)\n",
        "label_map = {'correct': 0, 'incorrect': 1, 'not_sitting': 2}\n",
        "y_test_encoded = np.array([label_map[label] for label in y_test])\n",
        "\n",
        "# === Run Inference ===\n",
        "y_pred_probs = model.predict({'input_unnormalized': X_test})\n",
        "y_pred_classes = np.argmax(y_pred_probs, axis=1)  # Assumes model output is softmax\n",
        "\n",
        "# === Evaluate ===\n",
        "print(\"Accuracy:\", accuracy_score(y_test_encoded, y_pred_classes))\n",
        "print(\"Confusion Matrix:\\n\", confusion_matrix(y_test_encoded, y_pred_classes))\n",
        "print(\"Classification Report:\\n\", classification_report(\n",
        "    y_test_encoded,\n",
        "    y_pred_classes,\n",
        "    target_names=['incorrect', 'correct', 'not_sitting']\n",
        "))\n"
      ],
      "metadata": {
        "colab": {
          "base_uri": "https://localhost:8080/"
        },
        "id": "gc9_bt5l8UuG",
        "outputId": "5999683b-80b4-4e34-e6e7-e6dfa34b83f8"
      },
      "execution_count": 7,
      "outputs": [
        {
          "output_type": "stream",
          "name": "stdout",
          "text": [
            "\u001b[1m258/258\u001b[0m \u001b[32m━━━━━━━━━━━━━━━━━━━━\u001b[0m\u001b[37m\u001b[0m \u001b[1m1s\u001b[0m 3ms/step\n",
            "Accuracy: 0.8959825221507465\n",
            "Confusion Matrix:\n",
            " [[1625  299    0]\n",
            " [ 558 5338    0]\n",
            " [   0    0  419]]\n",
            "Classification Report:\n",
            "               precision    recall  f1-score   support\n",
            "\n",
            "   incorrect       0.74      0.84      0.79      1924\n",
            "     correct       0.95      0.91      0.93      5896\n",
            " not_sitting       1.00      1.00      1.00       419\n",
            "\n",
            "    accuracy                           0.90      8239\n",
            "   macro avg       0.90      0.92      0.91      8239\n",
            "weighted avg       0.90      0.90      0.90      8239\n",
            "\n"
          ]
        }
      ]
    },
    {
      "cell_type": "code",
      "source": [
        "import tensorflow as tf\n",
        "\n",
        "# Path to your SavedModel directory\n",
        "saved_model_dir = \"/content/my_saved_NN\"\n",
        "\n",
        "# Converter\n",
        "converter = tf.lite.TFLiteConverter.from_saved_model(saved_model_dir)\n",
        "\n",
        "# (Optional) Enable optimizations like quantization\n",
        "converter.optimizations = [tf.lite.Optimize.DEFAULT]\n",
        "\n",
        "# Convert the model\n",
        "tflite_model = converter.convert()\n",
        "\n",
        "# Save it to a file\n",
        "with open(\"model.tflite\", \"wb\") as f:\n",
        "    f.write(tflite_model)\n"
      ],
      "metadata": {
        "id": "gWLsVl1lXFP7"
      },
      "execution_count": 8,
      "outputs": []
    },
    {
      "cell_type": "code",
      "source": [
        "# ================== TESTING TFLITE MODEL ======================\n",
        "\n",
        "# Load TFLite model and allocate tensors\n",
        "interpreter = tf.lite.Interpreter(model_path=\"model.tflite\")\n",
        "interpreter.allocate_tensors()\n",
        "\n",
        "input_details = interpreter.get_input_details()\n",
        "output_details = interpreter.get_output_details()\n",
        "\n",
        "print(\"Input shape:\", input_details[0]['shape'])\n",
        "print(\"Output shape:\", output_details[0]['shape'])\n"
      ],
      "metadata": {
        "colab": {
          "base_uri": "https://localhost:8080/"
        },
        "id": "YpXgbSMbuA7L",
        "outputId": "4661a52d-889a-4d14-8a4f-ffa111ae6de4"
      },
      "execution_count": 15,
      "outputs": [
        {
          "output_type": "stream",
          "name": "stdout",
          "text": [
            "Input shape: [   1 1024]\n",
            "Output shape: [1 3]\n"
          ]
        }
      ]
    },
    {
      "cell_type": "code",
      "source": [
        "correct = 0\n",
        "total = len(X_test)\n",
        "\n",
        "for i in range(total):\n",
        "    input_data = X_test[i:i+1].astype(np.float32)\n",
        "    interpreter.set_tensor(input_details[0]['index'], input_data)\n",
        "    interpreter.invoke()\n",
        "    output = interpreter.get_tensor(output_details[0]['index'])\n",
        "    pred = np.argmax(output)\n",
        "\n",
        "    if pred == y_test_encoded[i]:\n",
        "        correct += 1\n",
        "\n",
        "print(\"TFLite accuracy:\", correct / total)\n"
      ],
      "metadata": {
        "colab": {
          "base_uri": "https://localhost:8080/"
        },
        "id": "kPQ2ENMavp0O",
        "outputId": "a59da808-a6a6-4b42-ba41-d7dc037e03ab"
      },
      "execution_count": 16,
      "outputs": [
        {
          "output_type": "stream",
          "name": "stdout",
          "text": [
            "TFLite accuracy: 0.8952542784318486\n"
          ]
        }
      ]
    }
  ]
}